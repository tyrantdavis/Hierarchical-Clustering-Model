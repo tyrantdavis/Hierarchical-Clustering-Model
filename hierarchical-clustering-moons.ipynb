{
 "cells": [
  {
   "cell_type": "markdown",
   "id": "ada62b76-5256-4632-a8b6-bf18a85c0556",
   "metadata": {},
   "source": [
    "# Import Libraries"
   ]
  },
  {
   "cell_type": "code",
   "execution_count": 1,
   "id": "0ade8cbd-bc80-453b-835d-42815a3c6020",
   "metadata": {},
   "outputs": [
    {
     "name": "stdout",
     "output_type": "stream",
     "text": [
      "Libraries used in this project:\n",
      "- Python 3.8.18 | packaged by conda-forge | (default, Dec 23 2023, 17:23:49) \n",
      "[Clang 15.0.7 ]\n",
      "- NumPy 1.24.3\n",
      "- pandas 2.0.3\n",
      "- Matplotlib 3.7.2\n",
      "- Folium 0.18.0\n",
      "- Yellowbrick 1.5\n",
      "- scikit-learn 1.3.2\n",
      "\n"
     ]
    }
   ],
   "source": [
    "import os  # Interact with the operating system.\n",
    "import sys  # Read system parameters.\n",
    "import warnings  # Suppress warnings\n",
    "from time import time  # Calculate training time.\n",
    "\n",
    "import folium  # Plot values on a map.\n",
    "import matplotlib  # Create 2D charts.\n",
    "import matplotlib.cm as cm\n",
    "import matplotlib.pyplot as plt\n",
    "import numpy as np  # Work with multi-dimensional arrays and matrices.\n",
    "import pandas as pd  # Manipulate and analyze data.\n",
    "import sklearn  # Perform data mining and analysis.\n",
    "import yellowbrick  # Visualize elbow and silhouette plots.\n",
    "from sklearn.cluster import KMeans\n",
    "from sklearn.metrics import silhouette_score\n",
    "from yellowbrick.cluster import KElbowVisualizer, SilhouetteVisualizer\n",
    "\n",
    "warnings.filterwarnings(\"ignore\")\n",
    "import scipy.cluster.hierarchy as sch\n",
    "from sklearn.cluster import AgglomerativeClustering, KMeans\n",
    "from yellowbrick.cluster import KElbowVisualizer\n",
    "\n",
    "# Summarize software libraries used.\n",
    "print(\"Libraries used in this project:\")\n",
    "print(\"- Python {}\".format(sys.version))\n",
    "print(\"- NumPy {}\".format(np.__version__))\n",
    "print(\"- pandas {}\".format(pd.__version__))\n",
    "print(\"- Matplotlib {}\".format(matplotlib.__version__))\n",
    "print(\"- Folium {}\".format(folium.__version__))\n",
    "print(\"- Yellowbrick {}\".format(yellowbrick.__version__))\n",
    "print(\"- scikit-learn {}\\n\".format(sklearn.__version__))"
   ]
  }
 ],
 "metadata": {
  "kernelspec": {
   "display_name": "Python 3 (ipykernel)",
   "language": "python",
   "name": "python3"
  },
  "language_info": {
   "codemirror_mode": {
    "name": "ipython",
    "version": 3
   },
   "file_extension": ".py",
   "mimetype": "text/x-python",
   "name": "python",
   "nbconvert_exporter": "python",
   "pygments_lexer": "ipython3",
   "version": "3.8.18"
  }
 },
 "nbformat": 4,
 "nbformat_minor": 5
}
