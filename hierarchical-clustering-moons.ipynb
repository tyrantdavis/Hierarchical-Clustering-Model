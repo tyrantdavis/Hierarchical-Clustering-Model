{
 "cells": [
  {
   "cell_type": "markdown",
   "id": "ada62b76-5256-4632-a8b6-bf18a85c0556",
   "metadata": {},
   "source": [
    "# Import Libraries"
   ]
  },
  {
   "cell_type": "code",
   "execution_count": 1,
   "id": "0ade8cbd-bc80-453b-835d-42815a3c6020",
   "metadata": {
    "scrolled": true
   },
   "outputs": [
    {
     "name": "stdout",
     "output_type": "stream",
     "text": [
      "Libraries used in this project:\n",
      "- Python 3.8.18 | packaged by conda-forge | (default, Dec 23 2023, 17:23:49) \n",
      "[Clang 15.0.7 ]\n",
      "- NumPy 1.24.3\n",
      "- pandas 2.0.3\n",
      "- Matplotlib 3.7.2\n",
      "- Folium 0.18.0\n",
      "- Yellowbrick 1.5\n",
      "- scikit-learn 1.3.2\n",
      "\n"
     ]
    }
   ],
   "source": [
    "import os  # Interact with the operating system.\n",
    "import sys  # Read system parameters.\n",
    "import warnings  # Suppress warnings\n",
    "from time import time  # Calculate training time.\n",
    "\n",
    "import folium  # Plot values on a map.\n",
    "import matplotlib  # Create 2D charts.\n",
    "import matplotlib.cm as cm\n",
    "import matplotlib.pyplot as plt\n",
    "import numpy as np  # Work with multi-dimensional arrays and matrices.\n",
    "import pandas as pd  # Manipulate and analyze data.\n",
    "import sklearn  # Perform data mining and analysis.\n",
    "import yellowbrick  # Visualize elbow and silhouette plots.\n",
    "from sklearn import datasets\n",
    "from sklearn.cluster import KMeans\n",
    "from sklearn.metrics import silhouette_score\n",
    "from yellowbrick.cluster import KElbowVisualizer, SilhouetteVisualizer\n",
    "\n",
    "warnings.filterwarnings(\"ignore\")\n",
    "import scipy.cluster.hierarchy as sch\n",
    "from sklearn.cluster import AgglomerativeClustering, KMeans\n",
    "from yellowbrick.cluster import KElbowVisualizer\n",
    "\n",
    "# Summarize software libraries used.\n",
    "print(\"Libraries used in this project:\")\n",
    "print(\"- Python {}\".format(sys.version))\n",
    "print(\"- NumPy {}\".format(np.__version__))\n",
    "print(\"- pandas {}\".format(pd.__version__))\n",
    "print(\"- Matplotlib {}\".format(matplotlib.__version__))\n",
    "print(\"- Folium {}\".format(folium.__version__))\n",
    "print(\"- Yellowbrick {}\".format(yellowbrick.__version__))\n",
    "print(\"- scikit-learn {}\\n\".format(sklearn.__version__))"
   ]
  },
  {
   "cell_type": "markdown",
   "id": "18cf7c04-0195-4810-a1d7-9e3fba35c80e",
   "metadata": {},
   "source": [
    "## Create the Dataset\n",
    "\n",
    "To analyze the price of a home  through multiple inputs in King County, load the dataset into `DataFrame`. Once loaded as `DataFrame` the data can be explored and visualized with pandas."
   ]
  },
  {
   "cell_type": "code",
   "execution_count": 2,
   "id": "0662e8a9-e1a8-46a1-baf6-0e39dced549f",
   "metadata": {},
   "outputs": [],
   "source": [
    "X, y = datasets.make_moons(n_samples=1000, shuffle=True, noise=0.05, random_state=41)\n",
    "X = pd.DataFrame({\"Col1\": X[:, 0], \"Col2\": X[:, 1]})"
   ]
  },
  {
   "cell_type": "markdown",
   "id": "fb6fa570-8c45-4ea8-9ebf-f7709e2772ef",
   "metadata": {},
   "source": [
    "**Examine Datatypes and Null Values**"
   ]
  },
  {
   "cell_type": "code",
   "execution_count": 3,
   "id": "894ea387-d61b-408e-aede-f7b4731aede5",
   "metadata": {},
   "outputs": [
    {
     "name": "stdout",
     "output_type": "stream",
     "text": [
      "<class 'pandas.core.frame.DataFrame'>\n",
      "RangeIndex: 1000 entries, 0 to 999\n",
      "Data columns (total 2 columns):\n",
      " #   Column  Non-Null Count  Dtype  \n",
      "---  ------  --------------  -----  \n",
      " 0   Col1    1000 non-null   float64\n",
      " 1   Col2    1000 non-null   float64\n",
      "dtypes: float64(2)\n",
      "memory usage: 15.8 KB\n"
     ]
    }
   ],
   "source": [
    "X.info()"
   ]
  },
  {
   "cell_type": "markdown",
   "id": "294fb5e7-bec2-46ae-b7dc-ac5ed6723d09",
   "metadata": {},
   "source": [
    "**Examine First 5 Records**"
   ]
  },
  {
   "cell_type": "code",
   "execution_count": 4,
   "id": "24a5628a-f4c0-4320-ba13-03bb82268892",
   "metadata": {},
   "outputs": [
    {
     "data": {
      "text/html": [
       "<div>\n",
       "<style scoped>\n",
       "    .dataframe tbody tr th:only-of-type {\n",
       "        vertical-align: middle;\n",
       "    }\n",
       "\n",
       "    .dataframe tbody tr th {\n",
       "        vertical-align: top;\n",
       "    }\n",
       "\n",
       "    .dataframe thead th {\n",
       "        text-align: right;\n",
       "    }\n",
       "</style>\n",
       "<table border=\"1\" class=\"dataframe\">\n",
       "  <thead>\n",
       "    <tr style=\"text-align: right;\">\n",
       "      <th></th>\n",
       "      <th>Col1</th>\n",
       "      <th>Col2</th>\n",
       "    </tr>\n",
       "  </thead>\n",
       "  <tbody>\n",
       "    <tr>\n",
       "      <th>0</th>\n",
       "      <td>0.201460</td>\n",
       "      <td>0.958164</td>\n",
       "    </tr>\n",
       "    <tr>\n",
       "      <th>1</th>\n",
       "      <td>0.050975</td>\n",
       "      <td>0.305029</td>\n",
       "    </tr>\n",
       "    <tr>\n",
       "      <th>2</th>\n",
       "      <td>1.573935</td>\n",
       "      <td>-0.366780</td>\n",
       "    </tr>\n",
       "    <tr>\n",
       "      <th>3</th>\n",
       "      <td>-0.991440</td>\n",
       "      <td>0.094687</td>\n",
       "    </tr>\n",
       "    <tr>\n",
       "      <th>4</th>\n",
       "      <td>0.465245</td>\n",
       "      <td>-0.326029</td>\n",
       "    </tr>\n",
       "  </tbody>\n",
       "</table>\n",
       "</div>"
      ],
      "text/plain": [
       "       Col1      Col2\n",
       "0  0.201460  0.958164\n",
       "1  0.050975  0.305029\n",
       "2  1.573935 -0.366780\n",
       "3 -0.991440  0.094687\n",
       "4  0.465245 -0.326029"
      ]
     },
     "execution_count": 4,
     "metadata": {},
     "output_type": "execute_result"
    }
   ],
   "source": [
    "X.head()"
   ]
  },
  {
   "cell_type": "markdown",
   "id": "f2d00542-606c-4c62-857b-f7530e73af59",
   "metadata": {},
   "source": [
    "**Spotlights** \n",
    "\n",
    "- There is a total of 1,000 samples available.\n",
    "- To enhance realism, a degree of random noise has been incorporated into the distribution of the samples.\n",
    "- The features are represented by two columns, which contain values in floating-point format."
   ]
  }
 ],
 "metadata": {
  "kernelspec": {
   "display_name": "Python 3 (ipykernel)",
   "language": "python",
   "name": "python3"
  },
  "language_info": {
   "codemirror_mode": {
    "name": "ipython",
    "version": 3
   },
   "file_extension": ".py",
   "mimetype": "text/x-python",
   "name": "python",
   "nbconvert_exporter": "python",
   "pygments_lexer": "ipython3",
   "version": "3.8.18"
  }
 },
 "nbformat": 4,
 "nbformat_minor": 5
}
